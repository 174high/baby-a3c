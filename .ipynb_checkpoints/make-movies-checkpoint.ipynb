{
 "cells": [
  {
   "cell_type": "code",
   "execution_count": 1,
   "metadata": {},
   "outputs": [
    {
     "name": "stderr",
     "output_type": "stream",
     "text": [
      "/Users/Sam/anaconda3/lib/python3.6/site-packages/matplotlib/__init__.py:1405: UserWarning: \n",
      "This call to matplotlib.use() has no effect because the backend has already\n",
      "been chosen; matplotlib.use() must be called *before* pylab, matplotlib.pyplot,\n",
      "or matplotlib.backends is imported for the first time.\n",
      "\n",
      "  warnings.warn(_use_error_msg)\n"
     ]
    }
   ],
   "source": [
    "# Baby Advantage Actor-Critic | Sam Greydanus | October 2017 | MIT License\n",
    "\n",
    "from __future__ import print_function\n",
    "import torch, os, gym, time, glob, argparse\n",
    "import numpy as np\n",
    "from scipy.signal import lfilter\n",
    "from scipy.misc import imresize\n",
    "\n",
    "import torch.nn as nn\n",
    "from torch.autograd import Variable\n",
    "import torch.nn.functional as F\n",
    "import torch.multiprocessing as mp\n",
    "\n",
    "%matplotlib inline\n",
    "import matplotlib.pyplot as plt\n",
    "import matplotlib as mpl ; mpl.use(\"Agg\")\n",
    "import matplotlib.animation as manimation"
   ]
  },
  {
   "cell_type": "code",
   "execution_count": 2,
   "metadata": {},
   "outputs": [
    {
     "name": "stderr",
     "output_type": "stream",
     "text": [
      "[2017-10-03 14:35:22,734] Making new env: SpaceInvaders-v0\n"
     ]
    }
   ],
   "source": [
    "class Object():\n",
    "    def __init__(self): pass\n",
    "args = Object()\n",
    "\n",
    "args. env = 'SpaceInvaders-v0'\n",
    "args.processes = 20\n",
    "args.render = True\n",
    "args.test = True\n",
    "args.lstm_steps = 20\n",
    "args.lr = 1e-4\n",
    "args.seed = 0\n",
    "args.gamma = 0.99\n",
    "args.tau = 1\n",
    "\n",
    "args.save_dir = '{}/'.format(args.env.lower()) # keep the directory structure simple\n",
    "if args.test or args.render:\n",
    "    args.processes = 1 ; args.lr = 0 # don't train in test and render modes\n",
    "args.num_actions = gym.make(args.env).action_space.n # get the action space of this game\n",
    "os.makedirs(args.save_dir) if not os.path.exists(args.save_dir) else None # make dir to save models etc."
   ]
  },
  {
   "cell_type": "code",
   "execution_count": 3,
   "metadata": {},
   "outputs": [
    {
     "name": "stdout",
     "output_type": "stream",
     "text": [
      "\tloaded model: spaceinvaders-v0/model.80000.tar\n"
     ]
    }
   ],
   "source": [
    "discount = lambda x, gamma: lfilter([1],[1,-gamma],x[::-1])[::-1]\n",
    "prepro = lambda img: img[35:195][::2, ::2].mean(2).astype(np.float32).reshape(1,80,80)/255.\n",
    "prepro1 = lambda img: imresize(img[35:195].mean(2), (80,80)).astype(np.float32).reshape(1,80,80)/255.\n",
    "\n",
    "def printlog(args, s, end='\\n', mode='a'):\n",
    "    print(s, end=end) ; f=open(args.save_dir+'log.txt',mode) ; f.write(s+'\\n') ; f.close()\n",
    "        \n",
    "class NNPolicy(torch.nn.Module): # an actor-critic neural network\n",
    "    def __init__(self, channels, num_actions):\n",
    "        super(NNPolicy, self).__init__()\n",
    "        self.conv1 = nn.Conv2d(channels, 32, 3, stride=2, padding=1)\n",
    "        self.conv2 = nn.Conv2d(32, 32, 3, stride=2, padding=1)\n",
    "        self.conv3 = nn.Conv2d(32, 32, 3, stride=2, padding=1)\n",
    "        self.conv4 = nn.Conv2d(32, 32, 3, stride=2, padding=1)\n",
    "        self.lstm = nn.LSTMCell(32 * 5 * 5, 256)\n",
    "        self.val_func, self.pol_func = nn.Linear(256, 1), nn.Linear(256, num_actions)\n",
    "\n",
    "    def forward(self, inputs):\n",
    "        inputs, (hx, cx) = inputs\n",
    "        x = F.elu(self.conv1(inputs))\n",
    "        x = F.elu(self.conv2(x))\n",
    "        x = F.elu(self.conv3(x))\n",
    "        x = F.elu(self.conv4(x))\n",
    "        x = x.view(-1, 32 * 5 * 5)\n",
    "        hx, cx = self.lstm(x, (hx, cx))\n",
    "        return self.val_func(hx), self.pol_func(hx), (hx, cx)\n",
    "\n",
    "    def try_load(self, save_dir):\n",
    "        paths = glob.glob(save_dir + '*.tar') ; step = 0\n",
    "        if len(paths) > 0:\n",
    "            ckpts = [int(s.split('.')[-2]) for s in paths]\n",
    "            ix = np.argmax(ckpts) ; step = ckpts[ix]\n",
    "            self.load_state_dict(torch.load(paths[ix])['state_dict'])\n",
    "        print(\"\\tno saved models\") if step is 0 else print(\"\\tloaded model: {}\".format(paths[ix]))\n",
    "        return step\n",
    "\n",
    "class SharedAdam(torch.optim.Adam): # extend a pytorch optimizer so it shares grads across processes\n",
    "    def __init__(self, params, lr=1e-3, betas=(0.9, 0.999), eps=1e-8, weight_decay=0):\n",
    "        super(SharedAdam, self).__init__(params, lr, betas, eps, weight_decay)\n",
    "        for group in self.param_groups:\n",
    "            for p in group['params']:\n",
    "                state = self.state[p]\n",
    "                state['shared_steps'], state['step'] = torch.zeros(1).share_memory_(), 0\n",
    "                state['exp_avg'] = p.data.new().resize_as_(p.data).zero_().share_memory_()\n",
    "                state['exp_avg_sq'] = p.data.new().resize_as_(p.data).zero_().share_memory_()\n",
    "                \n",
    "        def step(self, closure=None):\n",
    "            for group in self.param_groups:\n",
    "                for p in group['params']:\n",
    "                    if p.grad is None: continue\n",
    "                    self.state[p]['shared_steps'] += 1\n",
    "                    self.state[p]['step'] = self.state[p]['shared_steps'][0] - 1\n",
    "            super.step(closure)\n",
    "\n",
    "torch.manual_seed(args.seed)\n",
    "shared_model = NNPolicy(channels=1, num_actions=args.num_actions).share_memory()\n",
    "shared_optimizer = SharedAdam(shared_model.parameters(), lr=args.lr)\n",
    "\n",
    "info = {k : torch.zeros(1).share_memory_() for k in ['run_epr', 'run_loss', 'episodes', 'frames']}\n",
    "info['episodes'] += shared_model.try_load(args.save_dir)\n",
    "if info['episodes'][0] is 0: printlog(args,'', end='', mode='w') # clear log file"
   ]
  },
  {
   "cell_type": "code",
   "execution_count": 4,
   "metadata": {
    "collapsed": true
   },
   "outputs": [],
   "source": [
    "def train(rank, args, info):\n",
    "    env = gym.make(args.env) # make a local (unshared) environment\n",
    "    env.seed(args.seed + rank) ; torch.manual_seed(args.seed + rank) # seed everything\n",
    "    model = NNPolicy(channels=1, num_actions=args.num_actions) # init a local (unshared) model\n",
    "    state = torch.Tensor(prepro(env.reset())) # get first state\n",
    "    \n",
    "    FFMpegWriter = manimation.writers['ffmpeg'] # movie making stuff\n",
    "    metadata = dict(title='{}'.format(args.env.lower()), artist='greydanus', comment='baby-a3c sample')\n",
    "    writer = FFMpegWriter(fps=20, metadata=metadata)\n",
    "\n",
    "    start_time = last_disp_time = time.time()\n",
    "    episode_length, epr, eploss, done  = 0, 0, 0, True # bookkeeping\n",
    "    \n",
    "    f = plt.figure(figsize=[6,6*1.3], dpi=75)\n",
    "    with writer.saving(f, \"{}.mp4\".format(args.env.lower()), dpi=75):\n",
    "    \n",
    "        while episode_length < 2500: # stopping point of openai baselines\n",
    "\n",
    "            model.load_state_dict(shared_model.state_dict()) # sync with shared model\n",
    "            cx = Variable(torch.zeros(1, 256)) if done else Variable(cx.data) # lstm memory\n",
    "            hx = Variable(torch.zeros(1, 256)) if done else Variable(hx.data) # lstm activation\n",
    "            values, logps, actions, rewards = [], [], [], [] # save values for computing gradientss\n",
    "\n",
    "            for step in range(args.lstm_steps):\n",
    "                episode_length += 1\n",
    "\n",
    "                value, logit, (hx, cx) = model((Variable(state.view(1,1,80,80)), (hx, cx)))\n",
    "                logp = F.log_softmax(logit)\n",
    "\n",
    "                action = logp.max(1)[1].data if args.test else torch.exp(logp).multinomial().data[0]\n",
    "                state, reward, done, _ = env.step(action.numpy()[0])\n",
    "                if args.render: env.render()\n",
    "                \n",
    "                iframe = 200 ; nframes = 400\n",
    "                if episode_length > iframe and episode_length < iframe + nframes:\n",
    "                    plt.imshow(prepro1(state)[0,:,:]) #; writer.grab_frame() ; f.clear()\n",
    "                    plt.show()\n",
    "                    adkng\n",
    "                print('frame # {}'.format(episode_length), end='\\r')\n",
    "\n",
    "                state = torch.Tensor(prepro(state))\n",
    "                reward = np.clip(reward, -1, 1) ; epr += reward\n",
    "\n",
    "                if done or episode_length >= 1e4: # update shared data. maybe print info and save model.\n",
    "                    break\n",
    "                    info['frames'] += episode_length ; info['episodes'] += 1\n",
    "                    info['run_epr'] = 0.98 * info['run_epr'].add_(0.02 * epr)\n",
    "                    info['run_loss'] = 0.98 * info['run_loss'].add_(0.02 * eploss)\n",
    "\n",
    "                    episode_length, epr, eploss = 0, 0, 0\n",
    "                    state = torch.Tensor(prepro(env.reset()))\n",
    "\n",
    "def cost_func(values, logps, actions, rewards):\n",
    "    np_values = values.view(-1).data.numpy()\n",
    "\n",
    "    # generalized advantage estimation (a policy gradient method)\n",
    "    delta_t = np.asarray(rewards) + args.gamma * np_values[1:] - np_values[:-1]\n",
    "    gae = discount(delta_t, args.gamma * args.tau)\n",
    "    logpys = logps.gather(1, Variable(actions).view(-1,1))\n",
    "    policy_loss = -(logpys.view(-1) * Variable(torch.Tensor(gae))).sum()\n",
    "    \n",
    "    # l2 loss over value estimator\n",
    "    rewards[-1] += args.gamma * np_values[-1]\n",
    "    discounted_r = discount(np.asarray(rewards), args.gamma)\n",
    "    discounted_r = Variable(torch.Tensor(discounted_r))\n",
    "    value_loss = .5 * (discounted_r - values[:-1,0]).pow(2).sum()\n",
    "\n",
    "    entropy_loss = -(-logps * torch.exp(logps)).sum() # encourage lower entropy\n",
    "    return policy_loss + 0.5 * value_loss + 0.01 * entropy_loss"
   ]
  },
  {
   "cell_type": "code",
   "execution_count": 5,
   "metadata": {},
   "outputs": [
    {
     "name": "stderr",
     "output_type": "stream",
     "text": [
      "[2017-10-03 14:35:23,438] Making new env: SpaceInvaders-v0\n"
     ]
    },
    {
     "name": "stdout",
     "output_type": "stream",
     "text": [
      "frame # 200\r"
     ]
    },
    {
     "data": {
      "image/png": "[encoded data removed]",
      "text/plain": [
       "<matplotlib.figure.Figure at 0x112298160>"
      ]
     },
     "metadata": {},
     "output_type": "display_data"
    },
    {
     "ename": "NameError",
     "evalue": "name 'adkng' is not defined",
     "output_type": "error",
     "traceback": [
      "\u001b[0;31m---------------------------------------------------------------------------\u001b[0m",
      "\u001b[0;31mNameError\u001b[0m                                 Traceback (most recent call last)",
      "\u001b[0;32m<ipython-input-5-cf0322fd2ca6>\u001b[0m in \u001b[0;36m<module>\u001b[0;34m()\u001b[0m\n\u001b[0;32m----> 1\u001b[0;31m \u001b[0mtrain\u001b[0m\u001b[0;34m(\u001b[0m\u001b[0mrank\u001b[0m\u001b[0;34m=\u001b[0m\u001b[0;36m1\u001b[0m\u001b[0;34m,\u001b[0m \u001b[0margs\u001b[0m\u001b[0;34m=\u001b[0m\u001b[0margs\u001b[0m\u001b[0;34m,\u001b[0m \u001b[0minfo\u001b[0m\u001b[0;34m=\u001b[0m\u001b[0minfo\u001b[0m\u001b[0;34m)\u001b[0m\u001b[0;34m\u001b[0m\u001b[0m\n\u001b[0m",
      "\u001b[0;32m<ipython-input-4-05efc39efadb>\u001b[0m in \u001b[0;36mtrain\u001b[0;34m(rank, args, info)\u001b[0m\n\u001b[1;32m     36\u001b[0m                     \u001b[0mplt\u001b[0m\u001b[0;34m.\u001b[0m\u001b[0mimshow\u001b[0m\u001b[0;34m(\u001b[0m\u001b[0mprepro1\u001b[0m\u001b[0;34m(\u001b[0m\u001b[0mstate\u001b[0m\u001b[0;34m)\u001b[0m\u001b[0;34m[\u001b[0m\u001b[0;36m0\u001b[0m\u001b[0;34m,\u001b[0m\u001b[0;34m:\u001b[0m\u001b[0;34m,\u001b[0m\u001b[0;34m:\u001b[0m\u001b[0;34m]\u001b[0m\u001b[0;34m)\u001b[0m \u001b[0;31m#; writer.grab_frame() ; f.clear()\u001b[0m\u001b[0;34m\u001b[0m\u001b[0m\n\u001b[1;32m     37\u001b[0m                     \u001b[0mplt\u001b[0m\u001b[0;34m.\u001b[0m\u001b[0mshow\u001b[0m\u001b[0;34m(\u001b[0m\u001b[0;34m)\u001b[0m\u001b[0;34m\u001b[0m\u001b[0m\n\u001b[0;32m---> 38\u001b[0;31m                     \u001b[0madkng\u001b[0m\u001b[0;34m\u001b[0m\u001b[0m\n\u001b[0m\u001b[1;32m     39\u001b[0m                 \u001b[0mprint\u001b[0m\u001b[0;34m(\u001b[0m\u001b[0;34m'frame # {}'\u001b[0m\u001b[0;34m.\u001b[0m\u001b[0mformat\u001b[0m\u001b[0;34m(\u001b[0m\u001b[0mepisode_length\u001b[0m\u001b[0;34m)\u001b[0m\u001b[0;34m,\u001b[0m \u001b[0mend\u001b[0m\u001b[0;34m=\u001b[0m\u001b[0;34m'\\r'\u001b[0m\u001b[0;34m)\u001b[0m\u001b[0;34m\u001b[0m\u001b[0m\n\u001b[1;32m     40\u001b[0m \u001b[0;34m\u001b[0m\u001b[0m\n",
      "\u001b[0;31mNameError\u001b[0m: name 'adkng' is not defined"
     ]
    }
   ],
   "source": [
    "train(rank=1, args=args, info=info)"
   ]
  },
  {
   "cell_type": "code",
   "execution_count": null,
   "metadata": {
    "collapsed": true
   },
   "outputs": [],
   "source": []
  }
 ],
 "metadata": {
  "kernelspec": {
   "display_name": "Python 3",
   "language": "python",
   "name": "python3"
  },
  "language_info": {
   "codemirror_mode": {
    "name": "ipython",
    "version": 3
   },
   "file_extension": ".py",
   "mimetype": "text/x-python",
   "name": "python",
   "nbconvert_exporter": "python",
   "pygments_lexer": "ipython3",
   "version": "3.6.1"
  }
 },
 "nbformat": 4,
 "nbformat_minor": 2
}
